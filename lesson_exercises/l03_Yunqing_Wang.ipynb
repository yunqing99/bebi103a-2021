{
 "cells": [
  {
   "cell_type": "markdown",
   "id": "44356ba5",
   "metadata": {},
   "source": [
    "**Exercise 3.1**\n",
    "\n",
    "*Describe the difference between categorical and quantitative variables. How are they fundamentally different in the way we plot them?*\n",
    "\n",
    "1) \n",
    "- Categorical variables label or categorize individuals into one of several groups. Each observation can be placed in only one category, and the categories are mutually exclusive. Such as either a female or a male, either a nonsmoker or a smoker.\n",
    "- Quantitative variables take numerical values and represent some kind of measurement. Age, weight, daily fiber intake, and glucose level are quantitative variable because they have numerical values. \n",
    "\n",
    "2)\n",
    "\n",
    "Categorical variables are discrete, while quantitative variable can easily have order in terms of measurement. \n",
    "Therefore, for categorical data, we usually use descriptive methods and graphical methods. For quantitative date, we use statistical methods in regression, time series, and many more."
   ]
  },
  {
   "cell_type": "markdown",
   "id": "4a9b7bf7",
   "metadata": {},
   "source": [
    "**Exercise 3.2**\n",
    "\n",
    "*What is the difference between key dimensions (kdims) and value dimensions (vdims) in HoloViews?*\n",
    "\n",
    "We use this to annote the data we wanna plot.\n",
    "- Key dimensions are indexing dimensions, which say where on the graphic the data in a row will reside. \n",
    "- Value dimensions give information about each data point, which has additional information associated with each data point. This information was not used in the above plot."
   ]
  },
  {
   "cell_type": "markdown",
   "id": "fce05f51",
   "metadata": {},
   "source": [
    "**Exercise 3.3**\n",
    "\n",
    "*Give pros and cons for using a histogram for display of repeated measurements. Then give pros and cons for using an ECDF.*\n",
    "\n",
    "1)\n",
    "\n",
    "Pros: \n",
    "- Simple and Versatile. It can be used in many different situations to offer an insightful look at frequency distribution.\n",
    "- Direct interpretation. Histograms show you which values are more and less common along with their dispersion. \n",
    "\n",
    "Cons:\n",
    "- A histogram can be misleading if it has a deceptive scale,inappropriate starting and ending points on the y-axis.\n",
    "- Using too many blocks can make analysis difficult, while too few can leave out important data.\n",
    "\n",
    "2)\n",
    "\n",
    "Pros: \n",
    "- ECDF calculates the cumulative density function (CDF), which enables plotting of all data.\n",
    "- CDFS do not involve any partitioning, therefore, they do not lose information and therefore represent data more faithfully than histograms. \n",
    "\n",
    "Cons:\n",
    "- Do not directly show the ditrubution of each catagory, you need to take the derivatives.  \n",
    "- Hard to plot if the number n is too small. "
   ]
  },
  {
   "cell_type": "markdown",
   "id": "8b7227d5",
   "metadata": {},
   "source": [
    "**Exercise 3.4**\n",
    "\n",
    "I'm a bit confused about kdim and vdim. According to lesson, \n",
    "\n",
    "hv.Points(\n",
    "    data=df,\n",
    "    kdims=['confidence when correct', 'confidence when incorrect'],\n",
    "    vdims=['sleeper'],\n",
    ")\n",
    "\n",
    "**'sleeper' is not plotted.**\n",
    "\n",
    "However,\n",
    "\n",
    "hv.Spikes(\n",
    "    data=df_counts,\n",
    "    kdims=['percent correct'],\n",
    "    vdims=['count']\n",
    ")\n",
    "\n",
    "**'count' is the y axis. Because y is dependant of x.I thought only kdims say where on the graphic the data in a row will reside.**\n"
   ]
  },
  {
   "cell_type": "code",
   "execution_count": null,
   "id": "8d755032",
   "metadata": {},
   "outputs": [],
   "source": []
  }
 ],
 "metadata": {
  "kernelspec": {
   "display_name": "Python 3",
   "language": "python",
   "name": "python3"
  },
  "language_info": {
   "codemirror_mode": {
    "name": "ipython",
    "version": 3
   },
   "file_extension": ".py",
   "mimetype": "text/x-python",
   "name": "python",
   "nbconvert_exporter": "python",
   "pygments_lexer": "ipython3",
   "version": "3.8.8"
  }
 },
 "nbformat": 4,
 "nbformat_minor": 5
}
